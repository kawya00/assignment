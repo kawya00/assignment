{
 "cells": [
  {
   "cell_type": "code",
   "execution_count": 4,
   "metadata": {},
   "outputs": [
    {
     "name": "stdout",
     "output_type": "stream",
     "text": [
      "True\n",
      "False\n"
     ]
    }
   ],
   "source": [
    "def is_Sublist(l, s):\n",
    "\tsub_set = False\n",
    "\tif s == []:\n",
    "\t\tsub_set = True\n",
    "\telif s == l:\n",
    "\t\tsub_set = True\n",
    "\telif len(s) > len(l):\n",
    "\t\tsub_set = False\n",
    "\n",
    "\telse:\n",
    "\t\tfor i in range(len(l)):\n",
    "\t\t\tif l[i] == s[0]:\n",
    "\t\t\t\tn = 1\n",
    "\t\t\t\twhile (n < len(s)) and (l[i+n] == s[n]):\n",
    "\t\t\t\t\tn += 1\n",
    "\t\t\t\t\n",
    "\t\t\t\tif n == len(s):\n",
    "\t\t\t\t\tsub_set = True\n",
    "\n",
    "\treturn sub_set\n",
    "\n",
    "a = [1,1,5,6,4,1,2,3,5]\n",
    "b = [1,1,5]\n",
    "c = [1,5,6,4,1,3,5]\n",
    "print(is_Sublist(a, b))\n",
    "print(is_Sublist(c, b))"
   ]
  },
  {
   "cell_type": "code",
   "execution_count": null,
   "metadata": {},
   "outputs": [],
   "source": []
  }
 ],
 "metadata": {
  "kernelspec": {
   "display_name": "Python 3",
   "language": "python",
   "name": "python3"
  },
  "language_info": {
   "codemirror_mode": {
    "name": "ipython",
    "version": 3
   },
   "file_extension": ".py",
   "mimetype": "text/x-python",
   "name": "python",
   "nbconvert_exporter": "python",
   "pygments_lexer": "ipython3",
   "version": "3.8.3"
  }
 },
 "nbformat": 4,
 "nbformat_minor": 4
}
